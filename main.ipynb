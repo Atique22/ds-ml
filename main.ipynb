{
 "cells": [
  {
   "cell_type": "code",
   "execution_count": 23,
   "id": "dfa7a10c",
   "metadata": {},
   "outputs": [],
   "source": [
    "import pandas as pd\n",
    "from sklearn.tree import DecisionTreeClassifier\n",
    "from sklearn.model_selection import train_test_split\n",
    "\n",
    "music_data = pd.read_csv(\"music.csv\")\n",
    "\n",
    "X = music_data.drop(columns=['genre'])\n",
    "y = music_data['genre']\n",
    "\n",
    "\n",
    "#model = DecisionTreeClassifier()\n",
    "#model.fit(X,y)\n",
    "#prediction = model.predict([[21,1],[22,0]])\n"
   ]
  },
  {
   "cell_type": "code",
   "execution_count": 27,
   "id": "f4545ccf",
   "metadata": {},
   "outputs": [
    {
     "data": {
      "text/plain": [
       "[    age  gender\n",
       " 13   27       0\n",
       " 14   30       0\n",
       " 15   31       0\n",
       " 6    31       1\n",
       " 17   35       0\n",
       " 1    23       1\n",
       " 0    20       1\n",
       " 10   21       0\n",
       " 11   25       0\n",
       " 16   34       0\n",
       " 2    25       1\n",
       " 4    29       1\n",
       " 5    30       1\n",
       " 8    37       1,\n",
       "     age  gender\n",
       " 9    20       0\n",
       " 12   26       0\n",
       " 3    26       1\n",
       " 7    33       1,\n",
       " 13     Acoustic\n",
       " 14     Acoustic\n",
       " 15    Classical\n",
       " 6     Classical\n",
       " 17    Classical\n",
       " 1        HipHop\n",
       " 0        HipHop\n",
       " 10        Dance\n",
       " 11        Dance\n",
       " 16    Classical\n",
       " 2        HipHop\n",
       " 4          Jazz\n",
       " 5          Jazz\n",
       " 8     Classical\n",
       " Name: genre, dtype: object,\n",
       " 9         Dance\n",
       " 12     Acoustic\n",
       " 3          Jazz\n",
       " 7     Classical\n",
       " Name: genre, dtype: object]"
      ]
     },
     "execution_count": 27,
     "metadata": {},
     "output_type": "execute_result"
    }
   ],
   "source": [
    "X_train, train_test_split(X ,y ,test_size=0.2)"
   ]
  },
  {
   "cell_type": "code",
   "execution_count": null,
   "id": "68303eb1",
   "metadata": {},
   "outputs": [],
   "source": []
  }
 ],
 "metadata": {
  "kernelspec": {
   "display_name": "Python 3 (ipykernel)",
   "language": "python",
   "name": "python3"
  },
  "language_info": {
   "codemirror_mode": {
    "name": "ipython",
    "version": 3
   },
   "file_extension": ".py",
   "mimetype": "text/x-python",
   "name": "python",
   "nbconvert_exporter": "python",
   "pygments_lexer": "ipython3",
   "version": "3.9.17"
  }
 },
 "nbformat": 4,
 "nbformat_minor": 5
}
